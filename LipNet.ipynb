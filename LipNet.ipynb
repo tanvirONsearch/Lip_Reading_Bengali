{
 "cells": [
  {
   "cell_type": "markdown",
   "id": "a3573a47-3689-4668-b62f-5c8451b2b4e9",
   "metadata": {
    "tags": []
   },
   "source": [
    "# 0. Install and Import Dependencies"
   ]
  },
  {
   "cell_type": "code",
   "execution_count": null,
   "id": "ddfbccbe-41ae-4c23-98b1-a13868e2b499",
   "metadata": {
    "scrolled": true,
    "tags": []
   },
   "outputs": [],
   "source": [
    "!pip list"
   ]
  },
  {
   "cell_type": "code",
   "execution_count": 1,
   "id": "b24af50c-20b8-409d-ad78-30a933fdd669",
   "metadata": {
    "tags": []
   },
   "outputs": [],
   "source": [
    "import os\n",
    "import cv2\n",
    "import tensorflow as tf\n",
    "import numpy as np\n",
    "from typing import List\n",
    "from matplotlib import pyplot as plt\n",
    "import imageio\n",
    "import mediapipe as mp\n",
    "import glob\n",
    "import graphviz"
   ]
  },
  {
   "cell_type": "code",
   "execution_count": 2,
   "id": "1e3db0b0-e559-4ad6-91fd-e7414b7d75e6",
   "metadata": {},
   "outputs": [
    {
     "data": {
      "text/plain": [
       "[PhysicalDevice(name='/physical_device:GPU:0', device_type='GPU')]"
      ]
     },
     "execution_count": 2,
     "metadata": {},
     "output_type": "execute_result"
    }
   ],
   "source": [
    "tf.config.list_physical_devices('GPU')"
   ]
  },
  {
   "cell_type": "code",
   "execution_count": 30,
   "id": "378d045a-3003-4f93-b7d2-a25a97774a68",
   "metadata": {
    "tags": []
   },
   "outputs": [],
   "source": [
    "physical_devices = tf.config.list_physical_devices('GPU')\n",
    "try:\n",
    "    tf.config.experimental.set_memory_growth(physical_devices[0], True)\n",
    "except:\n",
    "    print(\"couldnot find\")\n",
    "    pass"
   ]
  },
  {
   "cell_type": "markdown",
   "id": "7a19e88e-c7b9-45c1-ae1e-f2109329c71b",
   "metadata": {
    "tags": []
   },
   "source": [
    "# 1. Build Data Loading Functions"
   ]
  },
  {
   "cell_type": "code",
   "execution_count": 3,
   "id": "8548cc59-6dfc-4acc-abc3-3e65212db02e",
   "metadata": {
    "tags": []
   },
   "outputs": [],
   "source": [
    "\n",
    "def load_word_images(path: str) -> List[float]:\n",
    "    frames = []\n",
    "\n",
    "    with mp.solutions.face_mesh.FaceMesh() as face:\n",
    "        for image_name in os.listdir(path):\n",
    "           \n",
    "            image = imageio.v2.imread(os.path.join(path, image_name))\n",
    "\n",
    "            if image is not None:        \n",
    "                results = face.process(image)\n",
    "\n",
    "                landmarks = results.multi_face_landmarks[0].landmark\n",
    "                x1, y1 = map(int, (landmarks[0].x * image.shape[1], landmarks[0].y * image.shape[0]))\n",
    "                x2, y2 = map(int, (landmarks[17].x * image.shape[1], landmarks[17].y * image.shape[0]))\n",
    "\n",
    "                x = (x1 + x2) // 2 - 70 * 2\n",
    "                y = (y1 + y2) // 2 - 22 * 3\n",
    "\n",
    "                cropped_image = image[y:y+135, x:x+280]\n",
    "                if not (cropped_image.shape[0]>135 and cropped_image.shape[1]>280):\n",
    "                    pad_height = max(0, 135 - cropped_image.shape[0])\n",
    "                    pad_width = max(0, 280 - cropped_image.shape[1])\n",
    "        \n",
    "                    padded_image = tf.image.pad_to_bounding_box(\n",
    "                    cropped_image, 0, 0, cropped_image.shape[0] + pad_height, cropped_image.shape[1] + pad_width\n",
    "                    )\n",
    "                    frame = tf.image.rgb_to_grayscale(padded_image)\n",
    "                    frames.append(frame)\n",
    "                else:\n",
    "                    frame = tf.image.rgb_to_grayscale(cv2.resize(cropped_image,(280,135)))\n",
    "                    frames.append(frame)\n",
    "            else:\n",
    "                frame = tf.image.rgb_to_grayscale(np.zeros((135, 280, 3), dtype=np.uint8))\n",
    "                frames.append(frame)\n",
    "\n",
    "    return tf.cast(tf.image.per_image_standardization(frames), tf.float32)\n"
   ]
  },
  {
   "cell_type": "code",
   "execution_count": null,
   "id": "4b488916",
   "metadata": {},
   "outputs": [],
   "source": [
    "\n",
    "# def load_word_images(path: str) -> List[float]:\n",
    "#     frames = []\n",
    "\n",
    "#     with mp.solutions.face_mesh.FaceMesh() as face:\n",
    "#         for image_name in os.listdir(path):\n",
    "           \n",
    "#             image = imageio.v2.imread(os.path.join(path, image_name))\n",
    "\n",
    "#             if image is not None:        \n",
    "#                 results = face.process(image)\n",
    "\n",
    "#                 landmarks = results.multi_face_landmarks[0].landmark\n",
    "#                 x1, y1 = map(int, (landmarks[0].x * image.shape[1], landmarks[0].y * image.shape[0]))\n",
    "#                 x2, y2 = map(int, (landmarks[17].x * image.shape[1], landmarks[17].y * image.shape[0]))\n",
    "\n",
    "#                 x = (x1 + x2) // 2 - 70 * 2\n",
    "#                 y = (y1 + y2) // 2 - 22 * 3\n",
    "\n",
    "#                 cropped_image = image[y:y+135, x:x+280]\n",
    "\n",
    "#                 pad_height = max(0, 135 - cropped_image.shape[0])\n",
    "#                 pad_width = max(0, 280 - cropped_image.shape[1])\n",
    "#                 try:\n",
    "#                     padded_image = tf.image.pad_to_bounding_box(\n",
    "#                     cropped_image, 0, 0, cropped_image.shape[0] + pad_height, cropped_image.shape[1] + pad_width\n",
    "#                     )\n",
    "#                     frame = tf.image.rgb_to_grayscale(padded_image)\n",
    "#                     frames.append(frame)\n",
    "#                 except:\n",
    "#                     frame = tf.image.rgb_to_grayscale(cv2.resize(cropped_image,(280,135)))\n",
    "#                     frames.append(frame)\n",
    "                    \n",
    "#             else:\n",
    "#                 frame = tf.image.rgb_to_grayscale(np.zeros((135, 280, 3), dtype=np.uint8))\n",
    "#                 frames.append(frame)\n",
    "\n",
    "#     return tf.cast(tf.image.per_image_standardization(frames), tf.float32)\n"
   ]
  },
  {
   "cell_type": "code",
   "execution_count": 4,
   "id": "ec735e0b-ec98-4eb0-8f49-c35527d6670a",
   "metadata": {
    "tags": []
   },
   "outputs": [
    {
     "data": {
      "text/plain": [
       "73"
      ]
     },
     "execution_count": 4,
     "metadata": {},
     "output_type": "execute_result"
    }
   ],
   "source": [
    "vocab = ['অ', 'আ', 'ই', 'ঈ', 'উ', 'ঊ', 'ঋ', 'এ', 'ঐ', 'ও', 'ঔ',\n",
    "    'ক', 'খ', 'গ', 'ঘ', 'ঙ', 'চ', 'ছ', 'জ', 'ঝ', 'ঞ', 'ট',\n",
    "    'ঠ', 'ড', 'ঢ', 'ণ', 'ত', 'থ', 'দ', 'ধ', 'ন', 'প', 'ফ',\n",
    "    'ব', 'ভ', 'ম', 'য', 'র', 'ল', 'শ', 'ষ', 'স', 'হ', 'ড়',\n",
    "    'ঢ়', 'য়', 'ৎ', 'ং', 'ঃ', 'ঁ', '০', '১', '২', '৩', '৪',\n",
    "    '৫', '৬', '৭', '৮', '৯','়','া','ি','ী','ু','ূ','ৃ','ে',\n",
    "    'ৈ','ো','ৌ','্',' '\n",
    "]\n",
    "\n",
    "len(vocab)"
   ]
  },
  {
   "cell_type": "code",
   "execution_count": 5,
   "id": "be04e972-d7a5-4a72-82d8-a6bdde1f3ce6",
   "metadata": {
    "tags": []
   },
   "outputs": [
    {
     "name": "stdout",
     "output_type": "stream",
     "text": [
      "The vocabulary is: ['', 'অ', 'আ', 'ই', 'ঈ', 'উ', 'ঊ', 'ঋ', 'এ', 'ঐ', 'ও', 'ঔ', 'ক', 'খ', 'গ', 'ঘ', 'ঙ', 'চ', 'ছ', 'জ', 'ঝ', 'ঞ', 'ট', 'ঠ', 'ড', 'ঢ', 'ণ', 'ত', 'থ', 'দ', 'ধ', 'ন', 'প', 'ফ', 'ব', 'ভ', 'ম', 'য', 'র', 'ল', 'শ', 'ষ', 'স', 'হ', 'ড়', 'ঢ়', 'য়', 'ৎ', 'ং', 'ঃ', 'ঁ', '০', '১', '২', '৩', '৪', '৫', '৬', '৭', '৮', '৯', '়', 'া', 'ি', 'ী', 'ু', 'ূ', 'ৃ', 'ে', 'ৈ', 'ো', 'ৌ', '্', ' '] (size =74)\n"
     ]
    }
   ],
   "source": [
    "char_to_num = tf.keras.layers.StringLookup(\n",
    "    vocabulary=vocab,oov_token='', mask_token=None  # Set mask_token to None\n",
    ")\n",
    "\n",
    "num_to_char = tf.keras.layers.StringLookup(\n",
    "    vocabulary=char_to_num.get_vocabulary(),oov_token='', mask_token=None, invert=True,encoding=None\n",
    ")\n",
    "\n",
    "print(\n",
    "    f\"The vocabulary is: {char_to_num.get_vocabulary()} \"\n",
    "    f\"(size ={char_to_num.vocabulary_size()})\"\n",
    ")"
   ]
  },
  {
   "cell_type": "code",
   "execution_count": null,
   "id": "0d2dc2d6",
   "metadata": {},
   "outputs": [],
   "source": [
    "char_to_num.vocabulary_size()"
   ]
  },
  {
   "cell_type": "code",
   "execution_count": null,
   "id": "e1db8aeb",
   "metadata": {},
   "outputs": [],
   "source": [
    "char_to_num(vocab)"
   ]
  },
  {
   "cell_type": "code",
   "execution_count": null,
   "id": "559f7420-6802-45fa-9ca0-b1ff209b461c",
   "metadata": {
    "tags": []
   },
   "outputs": [],
   "source": [
    "char_to_num.get_vocabulary()\n",
    "char_to_num(['ব','া','ন','ভ'])\n",
    "num_to_char([34, 62, 31, 35])\n",
    "\n",
    "output = num_to_char([ 1, 30, 72, 37, 37, 61, 31])\n",
    "\n",
    "# Convert bytes to strings\n",
    "output_strings = [char.decode('utf-8') for char in output.numpy()]\n",
    "\n",
    "print(output_strings)\n"
   ]
  },
  {
   "cell_type": "code",
   "execution_count": 6,
   "id": "5d6ddad2",
   "metadata": {},
   "outputs": [],
   "source": [
    "def load_alignments(path:str) -> List[str]: \n",
    "    tokens=path.split('\\\\')[-1]\n",
    "    #n_tokens=tokens+tokens\n",
    "    return char_to_num(tf.reshape(tf.strings.unicode_split(tokens, input_encoding='UTF-8'), (-1)))#-1 for flattening the latters of word"
   ]
  },
  {
   "cell_type": "code",
   "execution_count": 7,
   "id": "dd01ca9f-77fb-4643-a2aa-47dd82c5d66b",
   "metadata": {
    "tags": []
   },
   "outputs": [],
   "source": [
    "def load_data(path: str): \n",
    "    path = bytes.decode(path.numpy())\n",
    "    frames = load_word_images(path) \n",
    "    alignments = load_alignments(path)\n",
    "    \n",
    "    return frames, alignments"
   ]
  },
  {
   "cell_type": "code",
   "execution_count": null,
   "id": "8cb7cc58-31ae-4904-a805-1177a82717d2",
   "metadata": {
    "tags": []
   },
   "outputs": [],
   "source": [
    "test_path = r'F:\\s1\\অধ্যয়ন'"
   ]
  },
  {
   "cell_type": "code",
   "execution_count": null,
   "id": "97967ead",
   "metadata": {},
   "outputs": [],
   "source": [
    "images=load_word_images(test_path)"
   ]
  },
  {
   "cell_type": "code",
   "execution_count": null,
   "id": "42b94544",
   "metadata": {},
   "outputs": [],
   "source": [
    "plt.imshow(images[35])"
   ]
  },
  {
   "cell_type": "code",
   "execution_count": null,
   "id": "262d1825",
   "metadata": {},
   "outputs": [],
   "source": [
    "bytes.decode(tf.convert_to_tensor(test_path).numpy())"
   ]
  },
  {
   "cell_type": "code",
   "execution_count": null,
   "id": "eb602c71-8560-4f9e-b26b-08202febb937",
   "metadata": {
    "scrolled": true,
    "tags": []
   },
   "outputs": [],
   "source": [
    "frame, alignment = load_data(tf.convert_to_tensor(test_path))"
   ]
  },
  {
   "cell_type": "code",
   "execution_count": null,
   "id": "652e2cbf",
   "metadata": {},
   "outputs": [],
   "source": [
    "alignment"
   ]
  },
  {
   "cell_type": "code",
   "execution_count": null,
   "id": "43e51660",
   "metadata": {},
   "outputs": [],
   "source": [
    "tf.shape(alignment)"
   ]
  },
  {
   "cell_type": "code",
   "execution_count": null,
   "id": "84b429ce",
   "metadata": {},
   "outputs": [],
   "source": [
    "tf.shape(frame)"
   ]
  },
  {
   "cell_type": "code",
   "execution_count": null,
   "id": "8e53b380",
   "metadata": {},
   "outputs": [],
   "source": [
    "cv2.imshow('img',frame[10].numpy())\n",
    "cv2.waitKey(0)\n",
    "cv2.destroyAllWindows()"
   ]
  },
  {
   "cell_type": "code",
   "execution_count": null,
   "id": "41e9c24a",
   "metadata": {},
   "outputs": [],
   "source": [
    "plt.imshow(frame[39])"
   ]
  },
  {
   "cell_type": "code",
   "execution_count": null,
   "metadata": {},
   "outputs": [],
   "source": [
    "output_strings = [char.decode('utf-8') for char in num_to_char([1, 30, 72, 37, 37, 61, 31]).numpy()]\n",
    "\n",
    "print(''.join(output_strings))"
   ]
  },
  {
   "cell_type": "code",
   "execution_count": 12,
   "id": "6871031a-b0ba-4c76-a852-f6329b0f2606",
   "metadata": {
    "tags": []
   },
   "outputs": [],
   "source": [
    "def mappable_function(path:str) ->List[str]:\n",
    "    result = tf.py_function(load_data, [path], (tf.float32, tf.int64))\n",
    "    return result"
   ]
  },
  {
   "cell_type": "markdown",
   "id": "c40a7eb4-0c3e-4eab-9291-5611cb68ce08",
   "metadata": {
    "tags": []
   },
   "source": [
    "# 2. Create Data Pipeline"
   ]
  },
  {
   "cell_type": "code",
   "execution_count": 8,
   "id": "e500da3f",
   "metadata": {},
   "outputs": [
    {
     "data": {
      "text/plain": [
       "503"
      ]
     },
     "execution_count": 8,
     "metadata": {},
     "output_type": "execute_result"
    }
   ],
   "source": [
    "folder_paths = glob.glob(os.path.join(r'D:\\Dataset\\s1', '*'))  #s22 done\n",
    "len(folder_paths)\n"
   ]
  },
  {
   "cell_type": "code",
   "execution_count": 9,
   "id": "28464f91",
   "metadata": {},
   "outputs": [],
   "source": [
    "file_paths=[i for i in folder_paths if len(os.listdir(i))>0 and len(os.listdir(i))<45 ]"
   ]
  },
  {
   "cell_type": "code",
   "execution_count": 10,
   "id": "75e86702",
   "metadata": {},
   "outputs": [
    {
     "data": {
      "text/plain": [
       "503"
      ]
     },
     "execution_count": 10,
     "metadata": {},
     "output_type": "execute_result"
    }
   ],
   "source": [
    "len(file_paths)"
   ]
  },
  {
   "cell_type": "code",
   "execution_count": 13,
   "id": "f066fea2-91b1-42ed-a67d-00566a1a53ff",
   "metadata": {
    "tags": []
   },
   "outputs": [],
   "source": [
    "\n",
    "data = tf.data.Dataset.from_tensor_slices(file_paths)\n",
    "data = data.shuffle(len(file_paths))\n",
    "data = data.map(mappable_function)\n",
    "batch_size=1\n",
    "data = data.padded_batch(batch_size, padded_shapes=([45,None,None,None],[15]))#20 is the optimal value ######[45,None,None,None],[20]\n",
    "data = data.prefetch(tf.data.AUTOTUNE)\n"
   ]
  },
  {
   "cell_type": "code",
   "execution_count": 14,
   "id": "8707f0bb",
   "metadata": {},
   "outputs": [],
   "source": [
    "# Added for split \n",
    "train = data.take(int(len(file_paths)*.9/batch_size))\n",
    "test = data.skip(int(len(file_paths)*.9/batch_size))"
   ]
  },
  {
   "cell_type": "code",
   "execution_count": 15,
   "id": "cd16be78",
   "metadata": {},
   "outputs": [
    {
     "name": "stdout",
     "output_type": "stream",
     "text": [
      "452\n"
     ]
    },
    {
     "data": {
      "text/plain": [
       "51"
      ]
     },
     "execution_count": 15,
     "metadata": {},
     "output_type": "execute_result"
    }
   ],
   "source": [
    "print(len(train))\n",
    "len(test)"
   ]
  },
  {
   "cell_type": "code",
   "execution_count": 16,
   "id": "4b9a9ad0",
   "metadata": {},
   "outputs": [],
   "source": [
    "frames,alignments=data.as_numpy_iterator().next()"
   ]
  },
  {
   "cell_type": "code",
   "execution_count": null,
   "id": "52934b70",
   "metadata": {},
   "outputs": [],
   "source": [
    "for element in data.take(len(train)):  # Take the first 5 elements for inspection\n",
    "    print(\"Element shapes:\")\n",
    "    print([tf.shape(e) for e in element])\n"
   ]
  },
  {
   "cell_type": "code",
   "execution_count": null,
   "id": "cbebe683-6afd-47fd-bba4-c83b4b13bb32",
   "metadata": {},
   "outputs": [],
   "source": [
    "# frames.shape\n",
    "# type(sample)\n",
    "# len(val)\n",
    "# val[0].shape\n",
    "# val[0][0].shape"
   ]
  },
  {
   "cell_type": "code",
   "execution_count": 17,
   "id": "7a97ec0e",
   "metadata": {},
   "outputs": [],
   "source": [
    "sample = data.as_numpy_iterator()\n",
    "val = sample.next()"
   ]
  },
  {
   "cell_type": "code",
   "execution_count": null,
   "id": "acf5eb4f-a0da-4a9a-bf24-af13e9cc2fbe",
   "metadata": {
    "tags": []
   },
   "outputs": [],
   "source": [
    "gif = (val[0][0] * 255).astype(np.uint8).reshape((45, 135, 280))\n",
    "imageio.mimsave('./animation.gif', gif, fps=10)"
   ]
  },
  {
   "cell_type": "code",
   "execution_count": 18,
   "id": "c33a87a2-d5e0-4ec9-b174-73ebf41bf03a",
   "metadata": {
    "tags": []
   },
   "outputs": [
    {
     "data": {
      "text/plain": [
       "<matplotlib.image.AxesImage at 0x1b4964d8820>"
      ]
     },
     "execution_count": 18,
     "metadata": {},
     "output_type": "execute_result"
    },
    {
     "data": {
      "image/png": "[encoded data removed]",
      "text/plain": [
       "<Figure size 640x480 with 1 Axes>"
      ]
     },
     "metadata": {},
     "output_type": "display_data"
    }
   ],
   "source": [
    "# 0:videos, 0: 1st video out of the batch,  0: return the first frame in the video \n",
    "plt.imshow(val[0][0][1])"
   ]
  },
  {
   "cell_type": "code",
   "execution_count": null,
   "id": "2f5ee4b4",
   "metadata": {},
   "outputs": [],
   "source": [
    "output_strings = [char.decode('utf-8') for char in num_to_char(val[1][0]).numpy()]\n",
    "\n",
    "print(''.join(output_strings))"
   ]
  },
  {
   "cell_type": "markdown",
   "id": "0f47733c-83bc-465c-b118-b198b492ad37",
   "metadata": {
    "tags": []
   },
   "source": [
    "# 3. Design the Deep Neural Network"
   ]
  },
  {
   "cell_type": "code",
   "execution_count": 19,
   "id": "d8e9a497-191b-4842-afbd-26f5e13c43ba",
   "metadata": {
    "tags": []
   },
   "outputs": [],
   "source": [
    "from tensorflow.keras.models import Sequential \n",
    "from tensorflow.keras.layers import Conv3D, LSTM, Dense, Dropout, Bidirectional, MaxPool3D, Activation, Reshape, SpatialDropout3D, BatchNormalization, TimeDistributed, Flatten\n",
    "from tensorflow.keras.optimizers import Adam\n",
    "from tensorflow.keras.callbacks import ModelCheckpoint, LearningRateScheduler\n",
    "from keras.utils.vis_utils import plot_model\n",
    "import matplotlib.pyplot as plt\n",
    "import numpy as np\n"
   ]
  },
  {
   "cell_type": "code",
   "execution_count": 20,
   "id": "3f753ed2-70b9-4236-8c1c-08ca065dc8bf",
   "metadata": {},
   "outputs": [
    {
     "data": {
      "text/plain": [
       "(1, 45, 135, 280, 1)"
      ]
     },
     "execution_count": 20,
     "metadata": {},
     "output_type": "execute_result"
    }
   ],
   "source": [
    "data.as_numpy_iterator().next()[0].shape"
   ]
  },
  {
   "cell_type": "markdown",
   "id": "3433eacc",
   "metadata": {},
   "source": [
    "Transfer Learning"
   ]
  },
  {
   "cell_type": "code",
   "execution_count": null,
   "id": "b8076686",
   "metadata": {},
   "outputs": [],
   "source": [
    "# pre_model = Sequential()\n",
    "# pre_model.add(Conv3D(128, 3, input_shape=(75,46,140,1), padding='same'))\n",
    "# pre_model.add(Activation('relu'))\n",
    "# pre_model.add(MaxPool3D((1,2,2)))\n",
    "\n",
    "# pre_model.add(Conv3D(256, 3, padding='same'))\n",
    "# pre_model.add(Activation('relu'))\n",
    "# pre_model.add(MaxPool3D((1,2,2)))\n",
    "\n",
    "# pre_model.add(Conv3D(75, 3, padding='same'))\n",
    "# pre_model.add(Activation('relu'))\n",
    "# pre_model.add(MaxPool3D((1,2,2)))\n",
    "\n",
    "# pre_model.add(TimeDistributed(Flatten()))\n",
    "\n",
    "# pre_model.add(Bidirectional(LSTM(128, kernel_initializer='Orthogonal', return_sequences=True)))\n",
    "# pre_model.add(Dropout(.5))\n",
    "\n",
    "# pre_model.add(Bidirectional(LSTM(128, kernel_initializer='Orthogonal', return_sequences=True)))\n",
    "# pre_model.add(Dropout(.5))\n",
    "\n",
    "# pre_model.add(Dense(41, kernel_initializer='he_normal', activation='softmax'))"
   ]
  },
  {
   "cell_type": "code",
   "execution_count": null,
   "id": "239108f1",
   "metadata": {},
   "outputs": [],
   "source": [
    "# pre_model.load_weights('E:/Python/Thesis Codes/models/checkpoint')"
   ]
  },
  {
   "cell_type": "code",
   "execution_count": 21,
   "id": "f9171056-a352-491a-9ed9-92b28ced268e",
   "metadata": {
    "tags": []
   },
   "outputs": [],
   "source": [
    "model = Sequential()\n",
    "#model.add(Conv3D(128, 3, padding='same'))\n",
    "model.add(Conv3D(128, 3, input_shape=(45,135,280,1), padding='same'))\n",
    "model.add(Activation('relu'))\n",
    "model.add(MaxPool3D((1,2,2)))\n",
    "\n",
    "model.add(Conv3D(256, 3, padding='same'))\n",
    "model.add(Activation('relu'))\n",
    "model.add(MaxPool3D((1,2,2)))\n",
    "\n",
    "model.add(Conv3D(45, 3, padding='same'))\n",
    "model.add(Activation('relu'))\n",
    "model.add(MaxPool3D((1,2,2)))\n",
    "\n",
    "model.add(TimeDistributed(Flatten()))\n",
    "\n",
    "model.add(Bidirectional(LSTM(128, kernel_initializer='Orthogonal', return_sequences=True)))\n",
    "model.add(Dropout(.5))\n",
    "\n",
    "model.add(Bidirectional(LSTM(128, kernel_initializer='Orthogonal', return_sequences=True)))\n",
    "model.add(Dropout(.5))\n",
    "\n",
    "model.add(Dense(char_to_num.vocabulary_size()+1, kernel_initializer='he_normal', activation='softmax'))"
   ]
  },
  {
   "cell_type": "code",
   "execution_count": null,
   "id": "8776dbeb",
   "metadata": {},
   "outputs": [],
   "source": [
    "# new_input_shape=(45,135,280,1)"
   ]
  },
  {
   "cell_type": "code",
   "execution_count": null,
   "id": "02128abc",
   "metadata": {},
   "outputs": [],
   "source": [
    "# import numpy as np\n",
    "\n",
    "# def resize_weights(weights, new_input_shape):\n",
    "#     # Get the shape of the weights\n",
    "#     old_input_shape = weights.shape[:-1]  # Exclude the last dimension (output channels)\n",
    "\n",
    "#     # Resize the weights along the spatial dimensions\n",
    "#     resized_weights = np.zeros(new_input_shape + (weights.shape[-1],))\n",
    "#     min_height = min(old_input_shape[0], new_input_shape[0])\n",
    "#     min_width = min(old_input_shape[1], new_input_shape[1])\n",
    "#     min_depth = min(old_input_shape[2], new_input_shape[2])\n",
    "    \n",
    "#     # Compute the padding dimensions\n",
    "#     pad_height = new_input_shape[0] - min_height\n",
    "#     pad_width = new_input_shape[1] - min_width\n",
    "#     pad_depth = new_input_shape[2] - min_depth\n",
    "    \n",
    "#     # Pad the weights if necessary\n",
    "#     resized_weights[:min_height, :min_width, :min_depth, :] = weights[:min_height, :min_width, :min_depth, :, :]\n",
    "#     if pad_height > 0:\n",
    "#         mean_height = np.mean(weights[:min_height, :, :, :, :], axis=0, keepdims=True)\n",
    "#         resized_weights[min_height:, :, :, :] = np.broadcast_to(mean_height, (pad_height,) + mean_height.shape)\n",
    "#     if pad_width > 0:\n",
    "#         mean_width = np.mean(weights[:, :min_width, :, :, :], axis=1, keepdims=True)\n",
    "#         resized_weights[:, min_width:, :, :] = np.broadcast_to(mean_width, (resized_weights.shape[0], pad_width,) + mean_width.shape)\n",
    "#     if pad_depth > 0:\n",
    "#         mean_depth = np.mean(weights[:, :, :min_depth, :, :], axis=2, keepdims=True)\n",
    "#         resized_weights[:, :, min_depth:, :] = np.broadcast_to(mean_depth, (resized_weights.shape[0], resized_weights.shape[1], pad_depth,) + mean_depth.shape)\n",
    "\n",
    "#     return resized_weights\n"
   ]
  },
  {
   "cell_type": "code",
   "execution_count": null,
   "id": "a344c724",
   "metadata": {},
   "outputs": [],
   "source": [
    "\n",
    "\n",
    "# def resize_dense_weights(weights, new_input_shape):\n",
    "#     # Get the shape of the weights\n",
    "#     old_input_shape, output_shape = weights.shape\n",
    "\n",
    "#     # Calculate the number of input features in the original weights\n",
    "#     num_input_features = old_input_shape[-1]\n",
    "\n",
    "#     # Create resized weights with new input shape\n",
    "#     resized_weights = np.zeros((new_input_shape[0] * new_input_shape[1] * new_input_shape[2], output_shape))\n",
    "\n",
    "#     # Reshape and copy weights\n",
    "#     num_features_to_copy = min(num_input_features, resized_weights.shape[0])\n",
    "#     resized_weights[:num_features_to_copy, :] = weights[:num_features_to_copy, :]\n",
    "\n",
    "#     return resized_weights\n",
    "\n"
   ]
  },
  {
   "cell_type": "code",
   "execution_count": null,
   "id": "88251757",
   "metadata": {},
   "outputs": [],
   "source": [
    "\n",
    "\n",
    "# # Iterate through layers and copy weights to corresponding layers in your model\n",
    "# for layer_checkpoint, layer_current in zip(pre_model.layers, model.layers):\n",
    "#     if layer_current.name.startswith(\"conv3d\"):\n",
    "#         # Modify weights if the layer is a convolutional layer\n",
    "#         # Here we resize the weights to match the input shape of the current model\n",
    "#         weights = layer_checkpoint.get_weights()\n",
    "#         weights[0] = resize_weights(weights[0], new_input_shape)\n",
    "#         layer_current.set_weights(weights)\n",
    "#     elif layer_current.name.startswith(\"dense\"):\n",
    "#         # Modify weights if the layer is a dense layer\n",
    "#         # Here we resize the weights to match the input shape of the current model\n",
    "#         weights = layer_checkpoint.get_weights()\n",
    "#         weights[0] = resize_dense_weights(weights[0], new_input_shape)\n",
    "#         layer_current.set_weights(weights)\n",
    "#     else:\n",
    "#         # For other layers, simply copy the weights\n",
    "#         layer_current.set_weights(layer_checkpoint.get_weights())\n",
    "\n"
   ]
  },
  {
   "cell_type": "code",
   "execution_count": null,
   "id": "a79b324d",
   "metadata": {},
   "outputs": [],
   "source": [
    "plot_model(model, to_file=r'model_plot.png', show_shapes=True, show_layer_names=True)"
   ]
  },
  {
   "cell_type": "code",
   "execution_count": 22,
   "id": "78851825-2bcd-42a9-b7f2-28bb5a6bf43a",
   "metadata": {
    "collapsed": true,
    "jupyter": {
     "outputs_hidden": true
    },
    "tags": []
   },
   "outputs": [
    {
     "name": "stdout",
     "output_type": "stream",
     "text": [
      "Model: \"sequential\"\n",
      "_________________________________________________________________\n",
      " Layer (type)                Output Shape              Param #   \n",
      "=================================================================\n",
      " conv3d (Conv3D)             (None, 45, 135, 280, 128  3584      \n",
      "                             )                                   \n",
      "                                                                 \n",
      " activation (Activation)     (None, 45, 135, 280, 128  0         \n",
      "                             )                                   \n",
      "                                                                 \n",
      " max_pooling3d (MaxPooling3D  (None, 45, 67, 140, 128)  0        \n",
      " )                                                               \n",
      "                                                                 \n",
      " conv3d_1 (Conv3D)           (None, 45, 67, 140, 256)  884992    \n",
      "                                                                 \n",
      " activation_1 (Activation)   (None, 45, 67, 140, 256)  0         \n",
      "                                                                 \n",
      " max_pooling3d_1 (MaxPooling  (None, 45, 33, 70, 256)  0         \n",
      " 3D)                                                             \n",
      "                                                                 \n",
      " conv3d_2 (Conv3D)           (None, 45, 33, 70, 45)    311085    \n",
      "                                                                 \n",
      " activation_2 (Activation)   (None, 45, 33, 70, 45)    0         \n",
      "                                                                 \n",
      " max_pooling3d_2 (MaxPooling  (None, 45, 16, 35, 45)   0         \n",
      " 3D)                                                             \n",
      "                                                                 \n",
      " time_distributed (TimeDistr  (None, 45, 25200)        0         \n",
      " ibuted)                                                         \n",
      "                                                                 \n",
      " bidirectional (Bidirectiona  (None, 45, 256)          25936896  \n",
      " l)                                                              \n",
      "                                                                 \n",
      " dropout (Dropout)           (None, 45, 256)           0         \n",
      "                                                                 \n",
      " bidirectional_1 (Bidirectio  (None, 45, 256)          394240    \n",
      " nal)                                                            \n",
      "                                                                 \n",
      " dropout_1 (Dropout)         (None, 45, 256)           0         \n",
      "                                                                 \n",
      " dense (Dense)               (None, 45, 75)            19275     \n",
      "                                                                 \n",
      "=================================================================\n",
      "Total params: 27,550,072\n",
      "Trainable params: 27,550,072\n",
      "Non-trainable params: 0\n",
      "_________________________________________________________________\n"
     ]
    }
   ],
   "source": [
    "model.summary()"
   ]
  },
  {
   "cell_type": "code",
   "execution_count": null,
   "id": "f4b4798c-a65a-4c47-9e2a-3b09dc98d320",
   "metadata": {},
   "outputs": [],
   "source": [
    "# 45*16*35\n",
    "# yhat = model.predict(val[0])\n",
    "# # yhat.shape\n",
    "# # yhat[0][0].shape\n",
    "# print(tf.argmax(yhat[0],axis=1).numpy())\n",
    "# output_strings = [char.decode('utf-8') for char in num_to_char(tf.argmax(yhat[0],axis=1)).numpy()]\n",
    "\n",
    "# print(''.join(output_strings))"
   ]
  },
  {
   "cell_type": "code",
   "execution_count": null,
   "id": "7c37b9b9-5298-4038-9c33-5031d1b457f0",
   "metadata": {
    "tags": []
   },
   "outputs": [],
   "source": [
    "model.input_shape"
   ]
  },
  {
   "cell_type": "code",
   "execution_count": null,
   "id": "98b316a4-5322-4782-8e36-4b3c1a696d85",
   "metadata": {
    "tags": []
   },
   "outputs": [],
   "source": [
    "model.output_shape"
   ]
  },
  {
   "cell_type": "markdown",
   "id": "2ec02176-5c26-46c3-aff7-8352e6563c7d",
   "metadata": {
    "tags": []
   },
   "source": [
    "# 4. Setup Training Options and Train"
   ]
  },
  {
   "cell_type": "code",
   "execution_count": 28,
   "id": "ab015fd0-7fb4-4d5d-9fa2-30a05dbd515a",
   "metadata": {
    "tags": []
   },
   "outputs": [],
   "source": [
    "def scheduler(epoch, lr):\n",
    "    if epoch < 30:\n",
    "        return lr\n",
    "    else:\n",
    "        return lr * tf.math.exp(-0.1)"
   ]
  },
  {
   "cell_type": "code",
   "execution_count": 23,
   "id": "c564d5c9-db54-4e88-b311-9aeab7fb3e69",
   "metadata": {
    "tags": []
   },
   "outputs": [],
   "source": [
    "def CTCLoss(y_true, y_pred):\n",
    "    batch_len = tf.cast(tf.shape(y_true)[0], dtype=\"int64\")# for alignment batch\n",
    "    input_length = tf.cast(tf.shape(y_pred)[1], dtype=\"int64\") # len of predicted align\n",
    "    label_length = tf.cast(tf.shape(y_true)[1], dtype=\"int64\")\n",
    "\n",
    "    input_length = input_length * tf.ones(shape=(batch_len, 1), dtype=\"int64\")\n",
    "    label_length = label_length * tf.ones(shape=(batch_len, 1), dtype=\"int64\")\n",
    "\n",
    "    loss = tf.keras.backend.ctc_batch_cost(y_true, y_pred, input_length, label_length)\n",
    "    return loss"
   ]
  },
  {
   "cell_type": "code",
   "execution_count": 24,
   "id": "a26dc3fc-a19c-4378-bd8c-e2b597a1d15c",
   "metadata": {
    "tags": []
   },
   "outputs": [],
   "source": [
    "class ProduceExample(tf.keras.callbacks.Callback): \n",
    "    def __init__(self, dataset) -> None: \n",
    "        self.dataset = dataset.as_numpy_iterator()\n",
    "    \n",
    "    def on_epoch_end(self, epoch, logs=None) -> None:\n",
    "        data = self.dataset.next()\n",
    "        yhat = self.model.predict(data[0])\n",
    "        ip_len=np.full((yhat.shape[0]),yhat.shape[1])\n",
    "        decoded = tf.keras.backend.ctc_decode(yhat, ip_len, greedy=False)[0][0].numpy()\n",
    "        for x in range(len(yhat)): \n",
    "            #char.decode('utf-8') for char in num_to_char(tf.argmax(yhat[0],axis=1)).numpy() \n",
    "            oos=[char.decode('utf-8') for char in num_to_char(data[1][x]).numpy() if char.decode('utf-8')!='[UNK]']\n",
    "            oo=''.join(oos)          \n",
    "            print('Original:', oo)\n",
    "            pos=[char.decode('utf-8') for char in num_to_char(decoded[x]).numpy() if char.decode('utf-8')!='[UNK]']\n",
    "            po=''.join(pos)\n",
    "            print('Prediction:', po)\n",
    "            print('~'*100)\n",
    "        "
   ]
  },
  {
   "cell_type": "markdown",
   "id": "4b5a0de9",
   "metadata": {},
   "source": [
    "CArefull Here................"
   ]
  },
  {
   "cell_type": "code",
   "execution_count": 24,
   "id": "e8865720",
   "metadata": {},
   "outputs": [
    {
     "data": {
      "text/plain": [
       "<tensorflow.python.checkpoint.checkpoint.CheckpointLoadStatus at 0x2611eb27580>"
      ]
     },
     "execution_count": 24,
     "metadata": {},
     "output_type": "execute_result"
    }
   ],
   "source": [
    "model.load_weights('E:\\Python\\Thesis Codes\\models\\checkpoint')"
   ]
  },
  {
   "cell_type": "code",
   "execution_count": 25,
   "id": "04be90d8-2482-46f9-b513-d5f4f8001c7e",
   "metadata": {
    "tags": []
   },
   "outputs": [],
   "source": [
    "model.compile(optimizer=Adam(learning_rate=0.0001), loss=CTCLoss)"
   ]
  },
  {
   "cell_type": "code",
   "execution_count": null,
   "id": "d5a7eed5",
   "metadata": {},
   "outputs": [],
   "source": [
    "# Compile the model with custom loss and accuracy as metrics\n",
    "#model.compile(optimizer=Adam(learning_rate=0.0001), loss=CTCLoss, metrics=[CTCLoss, 'accuracy'])\n"
   ]
  },
  {
   "cell_type": "code",
   "execution_count": 26,
   "id": "eab49367-3f1e-4464-ae76-dbd07549d97e",
   "metadata": {
    "tags": []
   },
   "outputs": [],
   "source": [
    "checkpoint_callback = ModelCheckpoint(os.path.join('models','checkpoint'), monitor='loss', save_weights_only=True) "
   ]
  },
  {
   "cell_type": "code",
   "execution_count": 29,
   "id": "e085a632-d464-46ef-8777-959cad4adb2c",
   "metadata": {
    "tags": []
   },
   "outputs": [],
   "source": [
    "schedule_callback = LearningRateScheduler(scheduler)"
   ]
  },
  {
   "cell_type": "code",
   "execution_count": 30,
   "id": "48eca991-90ab-4592-8a79-b50e9ca015b6",
   "metadata": {
    "tags": []
   },
   "outputs": [],
   "source": [
    "example_callback = ProduceExample(test)"
   ]
  },
  {
   "cell_type": "code",
   "execution_count": 28,
   "id": "757ff6f7",
   "metadata": {},
   "outputs": [
    {
     "data": {
      "text/plain": [
       "<tensorflow.python.checkpoint.checkpoint.CheckpointLoadStatus at 0x260a835b7c0>"
      ]
     },
     "execution_count": 28,
     "metadata": {},
     "output_type": "execute_result"
    }
   ],
   "source": [
    "model.load_weights('E:\\Python\\Thesis Codes\\models\\checkpoint')"
   ]
  },
  {
   "cell_type": "code",
   "execution_count": 31,
   "id": "8ffba483-aa61-4bbe-a15f-a73e1ddf097c",
   "metadata": {
    "tags": []
   },
   "outputs": [
    {
     "name": "stdout",
     "output_type": "stream",
     "text": [
      "400/452 [=========================>....] - ETA: 1:13 - loss: 27.0142"
     ]
    },
    {
     "ename": "DataLossError",
     "evalue": "Graph execution error:\n\nDetected at node 'IteratorGetNext' defined at (most recent call last):\n    File \"C:\\Users\\Tanvir\\AppData\\Local\\Programs\\Python\\Python310\\lib\\runpy.py\", line 196, in _run_module_as_main\n      return _run_code(code, main_globals, None,\n    File \"C:\\Users\\Tanvir\\AppData\\Local\\Programs\\Python\\Python310\\lib\\runpy.py\", line 86, in _run_code\n      exec(code, run_globals)\n    File \"e:\\Python\\tf\\lib\\site-packages\\ipykernel_launcher.py\", line 17, in <module>\n      app.launch_new_instance()\n    File \"e:\\Python\\tf\\lib\\site-packages\\traitlets\\config\\application.py\", line 1075, in launch_instance\n      app.start()\n    File \"e:\\Python\\tf\\lib\\site-packages\\ipykernel\\kernelapp.py\", line 701, in start\n      self.io_loop.start()\n    File \"e:\\Python\\tf\\lib\\site-packages\\tornado\\platform\\asyncio.py\", line 205, in start\n      self.asyncio_loop.run_forever()\n    File \"C:\\Users\\Tanvir\\AppData\\Local\\Programs\\Python\\Python310\\lib\\asyncio\\windows_events.py\", line 321, in run_forever\n      super().run_forever()\n    File \"C:\\Users\\Tanvir\\AppData\\Local\\Programs\\Python\\Python310\\lib\\asyncio\\base_events.py\", line 603, in run_forever\n      self._run_once()\n    File \"C:\\Users\\Tanvir\\AppData\\Local\\Programs\\Python\\Python310\\lib\\asyncio\\base_events.py\", line 1909, in _run_once\n      handle._run()\n    File \"C:\\Users\\Tanvir\\AppData\\Local\\Programs\\Python\\Python310\\lib\\asyncio\\events.py\", line 80, in _run\n      self._context.run(self._callback, *self._args)\n    File \"e:\\Python\\tf\\lib\\site-packages\\ipykernel\\kernelbase.py\", line 534, in dispatch_queue\n      await self.process_one()\n    File \"e:\\Python\\tf\\lib\\site-packages\\ipykernel\\kernelbase.py\", line 523, in process_one\n      await dispatch(*args)\n    File \"e:\\Python\\tf\\lib\\site-packages\\ipykernel\\kernelbase.py\", line 429, in dispatch_shell\n      await result\n    File \"e:\\Python\\tf\\lib\\site-packages\\ipykernel\\kernelbase.py\", line 767, in execute_request\n      reply_content = await reply_content\n    File \"e:\\Python\\tf\\lib\\site-packages\\ipykernel\\ipkernel.py\", line 429, in do_execute\n      res = shell.run_cell(\n    File \"e:\\Python\\tf\\lib\\site-packages\\ipykernel\\zmqshell.py\", line 549, in run_cell\n      return super().run_cell(*args, **kwargs)\n    File \"e:\\Python\\tf\\lib\\site-packages\\IPython\\core\\interactiveshell.py\", line 3051, in run_cell\n      result = self._run_cell(\n    File \"e:\\Python\\tf\\lib\\site-packages\\IPython\\core\\interactiveshell.py\", line 3106, in _run_cell\n      result = runner(coro)\n    File \"e:\\Python\\tf\\lib\\site-packages\\IPython\\core\\async_helpers.py\", line 129, in _pseudo_sync_runner\n      coro.send(None)\n    File \"e:\\Python\\tf\\lib\\site-packages\\IPython\\core\\interactiveshell.py\", line 3311, in run_cell_async\n      has_raised = await self.run_ast_nodes(code_ast.body, cell_name,\n    File \"e:\\Python\\tf\\lib\\site-packages\\IPython\\core\\interactiveshell.py\", line 3493, in run_ast_nodes\n      if await self.run_code(code, result, async_=asy):\n    File \"e:\\Python\\tf\\lib\\site-packages\\IPython\\core\\interactiveshell.py\", line 3553, in run_code\n      exec(code_obj, self.user_global_ns, self.user_ns)\n    File \"C:\\Users\\Tanvir\\AppData\\Local\\Temp\\ipykernel_17252\\1971475700.py\", line 2, in <module>\n      history = model.fit(train, validation_data=test, epochs=1, callbacks=[checkpoint_callback,example_callback])\n    File \"e:\\Python\\tf\\lib\\site-packages\\keras\\utils\\traceback_utils.py\", line 65, in error_handler\n      return fn(*args, **kwargs)\n    File \"e:\\Python\\tf\\lib\\site-packages\\keras\\engine\\training.py\", line 1564, in fit\n      tmp_logs = self.train_function(iterator)\n    File \"e:\\Python\\tf\\lib\\site-packages\\keras\\engine\\training.py\", line 1160, in train_function\n      return step_function(self, iterator)\n    File \"e:\\Python\\tf\\lib\\site-packages\\keras\\engine\\training.py\", line 1145, in step_function\n      data = next(iterator)\nNode: 'IteratorGetNext'\nDetected at node 'IteratorGetNext' defined at (most recent call last):\n    File \"C:\\Users\\Tanvir\\AppData\\Local\\Programs\\Python\\Python310\\lib\\runpy.py\", line 196, in _run_module_as_main\n      return _run_code(code, main_globals, None,\n    File \"C:\\Users\\Tanvir\\AppData\\Local\\Programs\\Python\\Python310\\lib\\runpy.py\", line 86, in _run_code\n      exec(code, run_globals)\n    File \"e:\\Python\\tf\\lib\\site-packages\\ipykernel_launcher.py\", line 17, in <module>\n      app.launch_new_instance()\n    File \"e:\\Python\\tf\\lib\\site-packages\\traitlets\\config\\application.py\", line 1075, in launch_instance\n      app.start()\n    File \"e:\\Python\\tf\\lib\\site-packages\\ipykernel\\kernelapp.py\", line 701, in start\n      self.io_loop.start()\n    File \"e:\\Python\\tf\\lib\\site-packages\\tornado\\platform\\asyncio.py\", line 205, in start\n      self.asyncio_loop.run_forever()\n    File \"C:\\Users\\Tanvir\\AppData\\Local\\Programs\\Python\\Python310\\lib\\asyncio\\windows_events.py\", line 321, in run_forever\n      super().run_forever()\n    File \"C:\\Users\\Tanvir\\AppData\\Local\\Programs\\Python\\Python310\\lib\\asyncio\\base_events.py\", line 603, in run_forever\n      self._run_once()\n    File \"C:\\Users\\Tanvir\\AppData\\Local\\Programs\\Python\\Python310\\lib\\asyncio\\base_events.py\", line 1909, in _run_once\n      handle._run()\n    File \"C:\\Users\\Tanvir\\AppData\\Local\\Programs\\Python\\Python310\\lib\\asyncio\\events.py\", line 80, in _run\n      self._context.run(self._callback, *self._args)\n    File \"e:\\Python\\tf\\lib\\site-packages\\ipykernel\\kernelbase.py\", line 534, in dispatch_queue\n      await self.process_one()\n    File \"e:\\Python\\tf\\lib\\site-packages\\ipykernel\\kernelbase.py\", line 523, in process_one\n      await dispatch(*args)\n    File \"e:\\Python\\tf\\lib\\site-packages\\ipykernel\\kernelbase.py\", line 429, in dispatch_shell\n      await result\n    File \"e:\\Python\\tf\\lib\\site-packages\\ipykernel\\kernelbase.py\", line 767, in execute_request\n      reply_content = await reply_content\n    File \"e:\\Python\\tf\\lib\\site-packages\\ipykernel\\ipkernel.py\", line 429, in do_execute\n      res = shell.run_cell(\n    File \"e:\\Python\\tf\\lib\\site-packages\\ipykernel\\zmqshell.py\", line 549, in run_cell\n      return super().run_cell(*args, **kwargs)\n    File \"e:\\Python\\tf\\lib\\site-packages\\IPython\\core\\interactiveshell.py\", line 3051, in run_cell\n      result = self._run_cell(\n    File \"e:\\Python\\tf\\lib\\site-packages\\IPython\\core\\interactiveshell.py\", line 3106, in _run_cell\n      result = runner(coro)\n    File \"e:\\Python\\tf\\lib\\site-packages\\IPython\\core\\async_helpers.py\", line 129, in _pseudo_sync_runner\n      coro.send(None)\n    File \"e:\\Python\\tf\\lib\\site-packages\\IPython\\core\\interactiveshell.py\", line 3311, in run_cell_async\n      has_raised = await self.run_ast_nodes(code_ast.body, cell_name,\n    File \"e:\\Python\\tf\\lib\\site-packages\\IPython\\core\\interactiveshell.py\", line 3493, in run_ast_nodes\n      if await self.run_code(code, result, async_=asy):\n    File \"e:\\Python\\tf\\lib\\site-packages\\IPython\\core\\interactiveshell.py\", line 3553, in run_code\n      exec(code_obj, self.user_global_ns, self.user_ns)\n    File \"C:\\Users\\Tanvir\\AppData\\Local\\Temp\\ipykernel_17252\\1971475700.py\", line 2, in <module>\n      history = model.fit(train, validation_data=test, epochs=1, callbacks=[checkpoint_callback,example_callback])\n    File \"e:\\Python\\tf\\lib\\site-packages\\keras\\utils\\traceback_utils.py\", line 65, in error_handler\n      return fn(*args, **kwargs)\n    File \"e:\\Python\\tf\\lib\\site-packages\\keras\\engine\\training.py\", line 1564, in fit\n      tmp_logs = self.train_function(iterator)\n    File \"e:\\Python\\tf\\lib\\site-packages\\keras\\engine\\training.py\", line 1160, in train_function\n      return step_function(self, iterator)\n    File \"e:\\Python\\tf\\lib\\site-packages\\keras\\engine\\training.py\", line 1145, in step_function\n      data = next(iterator)\nNode: 'IteratorGetNext'\n2 root error(s) found.\n  (0) DATA_LOSS:  Attempted to pad to a smaller size than the input element.\n\t [[{{node IteratorGetNext}}]]\n\t [[CTCLoss/Shape_3/_4]]\n  (1) DATA_LOSS:  Attempted to pad to a smaller size than the input element.\n\t [[{{node IteratorGetNext}}]]\n0 successful operations.\n0 derived errors ignored. [Op:__inference_train_function_14460]",
     "output_type": "error",
     "traceback": [
      "\u001b[1;31m---------------------------------------------------------------------------\u001b[0m",
      "\u001b[1;31mDataLossError\u001b[0m                             Traceback (most recent call last)",
      "Cell \u001b[1;32mIn[31], line 2\u001b[0m\n\u001b[0;32m      1\u001b[0m \u001b[38;5;66;03m#history = model.fit(train, validation_data=test, epochs=1, callbacks=[checkpoint_callback, schedule_callback])\u001b[39;00m\n\u001b[1;32m----> 2\u001b[0m history \u001b[38;5;241m=\u001b[39m \u001b[43mmodel\u001b[49m\u001b[38;5;241;43m.\u001b[39;49m\u001b[43mfit\u001b[49m\u001b[43m(\u001b[49m\u001b[43mtrain\u001b[49m\u001b[43m,\u001b[49m\u001b[43m \u001b[49m\u001b[43mvalidation_data\u001b[49m\u001b[38;5;241;43m=\u001b[39;49m\u001b[43mtest\u001b[49m\u001b[43m,\u001b[49m\u001b[43m \u001b[49m\u001b[43mepochs\u001b[49m\u001b[38;5;241;43m=\u001b[39;49m\u001b[38;5;241;43m1\u001b[39;49m\u001b[43m,\u001b[49m\u001b[43m \u001b[49m\u001b[43mcallbacks\u001b[49m\u001b[38;5;241;43m=\u001b[39;49m\u001b[43m[\u001b[49m\u001b[43mcheckpoint_callback\u001b[49m\u001b[43m,\u001b[49m\u001b[43mexample_callback\u001b[49m\u001b[43m]\u001b[49m\u001b[43m)\u001b[49m\n",
      "File \u001b[1;32me:\\Python\\tf\\lib\\site-packages\\keras\\utils\\traceback_utils.py:70\u001b[0m, in \u001b[0;36mfilter_traceback.<locals>.error_handler\u001b[1;34m(*args, **kwargs)\u001b[0m\n\u001b[0;32m     67\u001b[0m     filtered_tb \u001b[38;5;241m=\u001b[39m _process_traceback_frames(e\u001b[38;5;241m.\u001b[39m__traceback__)\n\u001b[0;32m     68\u001b[0m     \u001b[38;5;66;03m# To get the full stack trace, call:\u001b[39;00m\n\u001b[0;32m     69\u001b[0m     \u001b[38;5;66;03m# `tf.debugging.disable_traceback_filtering()`\u001b[39;00m\n\u001b[1;32m---> 70\u001b[0m     \u001b[38;5;28;01mraise\u001b[39;00m e\u001b[38;5;241m.\u001b[39mwith_traceback(filtered_tb) \u001b[38;5;28;01mfrom\u001b[39;00m \u001b[38;5;28;01mNone\u001b[39;00m\n\u001b[0;32m     71\u001b[0m \u001b[38;5;28;01mfinally\u001b[39;00m:\n\u001b[0;32m     72\u001b[0m     \u001b[38;5;28;01mdel\u001b[39;00m filtered_tb\n",
      "File \u001b[1;32me:\\Python\\tf\\lib\\site-packages\\tensorflow\\python\\eager\\execute.py:54\u001b[0m, in \u001b[0;36mquick_execute\u001b[1;34m(op_name, num_outputs, inputs, attrs, ctx, name)\u001b[0m\n\u001b[0;32m     52\u001b[0m \u001b[38;5;28;01mtry\u001b[39;00m:\n\u001b[0;32m     53\u001b[0m   ctx\u001b[38;5;241m.\u001b[39mensure_initialized()\n\u001b[1;32m---> 54\u001b[0m   tensors \u001b[38;5;241m=\u001b[39m pywrap_tfe\u001b[38;5;241m.\u001b[39mTFE_Py_Execute(ctx\u001b[38;5;241m.\u001b[39m_handle, device_name, op_name,\n\u001b[0;32m     55\u001b[0m                                       inputs, attrs, num_outputs)\n\u001b[0;32m     56\u001b[0m \u001b[38;5;28;01mexcept\u001b[39;00m core\u001b[38;5;241m.\u001b[39m_NotOkStatusException \u001b[38;5;28;01mas\u001b[39;00m e:\n\u001b[0;32m     57\u001b[0m   \u001b[38;5;28;01mif\u001b[39;00m name \u001b[38;5;129;01mis\u001b[39;00m \u001b[38;5;129;01mnot\u001b[39;00m \u001b[38;5;28;01mNone\u001b[39;00m:\n",
      "\u001b[1;31mDataLossError\u001b[0m: Graph execution error:\n\nDetected at node 'IteratorGetNext' defined at (most recent call last):\n    File \"C:\\Users\\Tanvir\\AppData\\Local\\Programs\\Python\\Python310\\lib\\runpy.py\", line 196, in _run_module_as_main\n      return _run_code(code, main_globals, None,\n    File \"C:\\Users\\Tanvir\\AppData\\Local\\Programs\\Python\\Python310\\lib\\runpy.py\", line 86, in _run_code\n      exec(code, run_globals)\n    File \"e:\\Python\\tf\\lib\\site-packages\\ipykernel_launcher.py\", line 17, in <module>\n      app.launch_new_instance()\n    File \"e:\\Python\\tf\\lib\\site-packages\\traitlets\\config\\application.py\", line 1075, in launch_instance\n      app.start()\n    File \"e:\\Python\\tf\\lib\\site-packages\\ipykernel\\kernelapp.py\", line 701, in start\n      self.io_loop.start()\n    File \"e:\\Python\\tf\\lib\\site-packages\\tornado\\platform\\asyncio.py\", line 205, in start\n      self.asyncio_loop.run_forever()\n    File \"C:\\Users\\Tanvir\\AppData\\Local\\Programs\\Python\\Python310\\lib\\asyncio\\windows_events.py\", line 321, in run_forever\n      super().run_forever()\n    File \"C:\\Users\\Tanvir\\AppData\\Local\\Programs\\Python\\Python310\\lib\\asyncio\\base_events.py\", line 603, in run_forever\n      self._run_once()\n    File \"C:\\Users\\Tanvir\\AppData\\Local\\Programs\\Python\\Python310\\lib\\asyncio\\base_events.py\", line 1909, in _run_once\n      handle._run()\n    File \"C:\\Users\\Tanvir\\AppData\\Local\\Programs\\Python\\Python310\\lib\\asyncio\\events.py\", line 80, in _run\n      self._context.run(self._callback, *self._args)\n    File \"e:\\Python\\tf\\lib\\site-packages\\ipykernel\\kernelbase.py\", line 534, in dispatch_queue\n      await self.process_one()\n    File \"e:\\Python\\tf\\lib\\site-packages\\ipykernel\\kernelbase.py\", line 523, in process_one\n      await dispatch(*args)\n    File \"e:\\Python\\tf\\lib\\site-packages\\ipykernel\\kernelbase.py\", line 429, in dispatch_shell\n      await result\n    File \"e:\\Python\\tf\\lib\\site-packages\\ipykernel\\kernelbase.py\", line 767, in execute_request\n      reply_content = await reply_content\n    File \"e:\\Python\\tf\\lib\\site-packages\\ipykernel\\ipkernel.py\", line 429, in do_execute\n      res = shell.run_cell(\n    File \"e:\\Python\\tf\\lib\\site-packages\\ipykernel\\zmqshell.py\", line 549, in run_cell\n      return super().run_cell(*args, **kwargs)\n    File \"e:\\Python\\tf\\lib\\site-packages\\IPython\\core\\interactiveshell.py\", line 3051, in run_cell\n      result = self._run_cell(\n    File \"e:\\Python\\tf\\lib\\site-packages\\IPython\\core\\interactiveshell.py\", line 3106, in _run_cell\n      result = runner(coro)\n    File \"e:\\Python\\tf\\lib\\site-packages\\IPython\\core\\async_helpers.py\", line 129, in _pseudo_sync_runner\n      coro.send(None)\n    File \"e:\\Python\\tf\\lib\\site-packages\\IPython\\core\\interactiveshell.py\", line 3311, in run_cell_async\n      has_raised = await self.run_ast_nodes(code_ast.body, cell_name,\n    File \"e:\\Python\\tf\\lib\\site-packages\\IPython\\core\\interactiveshell.py\", line 3493, in run_ast_nodes\n      if await self.run_code(code, result, async_=asy):\n    File \"e:\\Python\\tf\\lib\\site-packages\\IPython\\core\\interactiveshell.py\", line 3553, in run_code\n      exec(code_obj, self.user_global_ns, self.user_ns)\n    File \"C:\\Users\\Tanvir\\AppData\\Local\\Temp\\ipykernel_17252\\1971475700.py\", line 2, in <module>\n      history = model.fit(train, validation_data=test, epochs=1, callbacks=[checkpoint_callback,example_callback])\n    File \"e:\\Python\\tf\\lib\\site-packages\\keras\\utils\\traceback_utils.py\", line 65, in error_handler\n      return fn(*args, **kwargs)\n    File \"e:\\Python\\tf\\lib\\site-packages\\keras\\engine\\training.py\", line 1564, in fit\n      tmp_logs = self.train_function(iterator)\n    File \"e:\\Python\\tf\\lib\\site-packages\\keras\\engine\\training.py\", line 1160, in train_function\n      return step_function(self, iterator)\n    File \"e:\\Python\\tf\\lib\\site-packages\\keras\\engine\\training.py\", line 1145, in step_function\n      data = next(iterator)\nNode: 'IteratorGetNext'\nDetected at node 'IteratorGetNext' defined at (most recent call last):\n    File \"C:\\Users\\Tanvir\\AppData\\Local\\Programs\\Python\\Python310\\lib\\runpy.py\", line 196, in _run_module_as_main\n      return _run_code(code, main_globals, None,\n    File \"C:\\Users\\Tanvir\\AppData\\Local\\Programs\\Python\\Python310\\lib\\runpy.py\", line 86, in _run_code\n      exec(code, run_globals)\n    File \"e:\\Python\\tf\\lib\\site-packages\\ipykernel_launcher.py\", line 17, in <module>\n      app.launch_new_instance()\n    File \"e:\\Python\\tf\\lib\\site-packages\\traitlets\\config\\application.py\", line 1075, in launch_instance\n      app.start()\n    File \"e:\\Python\\tf\\lib\\site-packages\\ipykernel\\kernelapp.py\", line 701, in start\n      self.io_loop.start()\n    File \"e:\\Python\\tf\\lib\\site-packages\\tornado\\platform\\asyncio.py\", line 205, in start\n      self.asyncio_loop.run_forever()\n    File \"C:\\Users\\Tanvir\\AppData\\Local\\Programs\\Python\\Python310\\lib\\asyncio\\windows_events.py\", line 321, in run_forever\n      super().run_forever()\n    File \"C:\\Users\\Tanvir\\AppData\\Local\\Programs\\Python\\Python310\\lib\\asyncio\\base_events.py\", line 603, in run_forever\n      self._run_once()\n    File \"C:\\Users\\Tanvir\\AppData\\Local\\Programs\\Python\\Python310\\lib\\asyncio\\base_events.py\", line 1909, in _run_once\n      handle._run()\n    File \"C:\\Users\\Tanvir\\AppData\\Local\\Programs\\Python\\Python310\\lib\\asyncio\\events.py\", line 80, in _run\n      self._context.run(self._callback, *self._args)\n    File \"e:\\Python\\tf\\lib\\site-packages\\ipykernel\\kernelbase.py\", line 534, in dispatch_queue\n      await self.process_one()\n    File \"e:\\Python\\tf\\lib\\site-packages\\ipykernel\\kernelbase.py\", line 523, in process_one\n      await dispatch(*args)\n    File \"e:\\Python\\tf\\lib\\site-packages\\ipykernel\\kernelbase.py\", line 429, in dispatch_shell\n      await result\n    File \"e:\\Python\\tf\\lib\\site-packages\\ipykernel\\kernelbase.py\", line 767, in execute_request\n      reply_content = await reply_content\n    File \"e:\\Python\\tf\\lib\\site-packages\\ipykernel\\ipkernel.py\", line 429, in do_execute\n      res = shell.run_cell(\n    File \"e:\\Python\\tf\\lib\\site-packages\\ipykernel\\zmqshell.py\", line 549, in run_cell\n      return super().run_cell(*args, **kwargs)\n    File \"e:\\Python\\tf\\lib\\site-packages\\IPython\\core\\interactiveshell.py\", line 3051, in run_cell\n      result = self._run_cell(\n    File \"e:\\Python\\tf\\lib\\site-packages\\IPython\\core\\interactiveshell.py\", line 3106, in _run_cell\n      result = runner(coro)\n    File \"e:\\Python\\tf\\lib\\site-packages\\IPython\\core\\async_helpers.py\", line 129, in _pseudo_sync_runner\n      coro.send(None)\n    File \"e:\\Python\\tf\\lib\\site-packages\\IPython\\core\\interactiveshell.py\", line 3311, in run_cell_async\n      has_raised = await self.run_ast_nodes(code_ast.body, cell_name,\n    File \"e:\\Python\\tf\\lib\\site-packages\\IPython\\core\\interactiveshell.py\", line 3493, in run_ast_nodes\n      if await self.run_code(code, result, async_=asy):\n    File \"e:\\Python\\tf\\lib\\site-packages\\IPython\\core\\interactiveshell.py\", line 3553, in run_code\n      exec(code_obj, self.user_global_ns, self.user_ns)\n    File \"C:\\Users\\Tanvir\\AppData\\Local\\Temp\\ipykernel_17252\\1971475700.py\", line 2, in <module>\n      history = model.fit(train, validation_data=test, epochs=1, callbacks=[checkpoint_callback,example_callback])\n    File \"e:\\Python\\tf\\lib\\site-packages\\keras\\utils\\traceback_utils.py\", line 65, in error_handler\n      return fn(*args, **kwargs)\n    File \"e:\\Python\\tf\\lib\\site-packages\\keras\\engine\\training.py\", line 1564, in fit\n      tmp_logs = self.train_function(iterator)\n    File \"e:\\Python\\tf\\lib\\site-packages\\keras\\engine\\training.py\", line 1160, in train_function\n      return step_function(self, iterator)\n    File \"e:\\Python\\tf\\lib\\site-packages\\keras\\engine\\training.py\", line 1145, in step_function\n      data = next(iterator)\nNode: 'IteratorGetNext'\n2 root error(s) found.\n  (0) DATA_LOSS:  Attempted to pad to a smaller size than the input element.\n\t [[{{node IteratorGetNext}}]]\n\t [[CTCLoss/Shape_3/_4]]\n  (1) DATA_LOSS:  Attempted to pad to a smaller size than the input element.\n\t [[{{node IteratorGetNext}}]]\n0 successful operations.\n0 derived errors ignored. [Op:__inference_train_function_14460]"
     ]
    }
   ],
   "source": [
    "#history = model.fit(train, validation_data=test, epochs=1, callbacks=[checkpoint_callback, schedule_callback])\n",
    "history = model.fit(train, validation_data=test, epochs=1, callbacks=[checkpoint_callback,example_callback])"
   ]
  },
  {
   "cell_type": "code",
   "execution_count": null,
   "id": "90baed04",
   "metadata": {},
   "outputs": [],
   "source": [
    "print(history.history.keys())"
   ]
  },
  {
   "cell_type": "code",
   "execution_count": null,
   "id": "48fb2263",
   "metadata": {},
   "outputs": [],
   "source": [
    "#summarize history for accuracy\n",
    "#plt.plot(history.history['accuracy'])\n",
    "#plt.plot(history.history['val_accuracy'])\n",
    "#plt.title('model accuracy')\n",
    "# plt.ylabel('accuracy')\n",
    "# plt.xlabel('epoch')\n",
    "# plt.legend(['train', 'test'], loc='upper left')\n",
    "# plt.show()\n",
    "\n",
    "#summarize history for loss\n",
    "plt.plot(history.history['loss'])\n",
    "plt.plot(history.history['val_loss'])\n",
    "plt.title('model loss')\n",
    "plt.ylabel('loss')\n",
    "plt.xlabel('epoch')\n",
    "plt.legend(['train', 'test'], loc='upper left')\n",
    "plt.show()"
   ]
  },
  {
   "cell_type": "markdown",
   "id": "fa8ee94b-89f7-4733-8a0c-a86f86ff590a",
   "metadata": {
    "tags": []
   },
   "source": [
    "# 5. Make a Prediction "
   ]
  },
  {
   "cell_type": "code",
   "execution_count": null,
   "id": "01fa7204-ce0e-49a8-8dbd-14fe5dfead40",
   "metadata": {
    "tags": []
   },
   "outputs": [],
   "source": [
    "url = 'https://drive.google.com/uc?id=1vWscXs4Vt0a_1IH1-ct2TCgXAZT-N3_Y'\n",
    "output = 'checkpoints.zip'\n",
    "gdown.download(url, output, quiet=False)\n",
    "gdown.extractall('checkpoints.zip', 'models')"
   ]
  },
  {
   "cell_type": "code",
   "execution_count": null,
   "id": "247f664d-3c87-4e96-946e-930dad0e1c2c",
   "metadata": {
    "tags": []
   },
   "outputs": [],
   "source": [
    "model.load_weights('models/checkpoint')"
   ]
  },
  {
   "cell_type": "code",
   "execution_count": null,
   "id": "7f8d689f-b7bb-443c-9b88-e40c1d800828",
   "metadata": {
    "tags": []
   },
   "outputs": [],
   "source": [
    "test_data = test.as_numpy_iterator()"
   ]
  },
  {
   "cell_type": "code",
   "execution_count": null,
   "id": "38546dc2-bee9-4837-864b-8a884df40ad7",
   "metadata": {
    "tags": []
   },
   "outputs": [],
   "source": [
    "sample = test_data.next()"
   ]
  },
  {
   "cell_type": "code",
   "execution_count": null,
   "id": "72ee4f91",
   "metadata": {},
   "outputs": [],
   "source": [
    "b=sample[1]\n",
    "b"
   ]
  },
  {
   "cell_type": "code",
   "execution_count": null,
   "id": "a43621f0-229d-4c0d-9554-9c3a3da9c61a",
   "metadata": {
    "tags": []
   },
   "outputs": [],
   "source": [
    "yhat = model.predict(sample[0])"
   ]
  },
  {
   "cell_type": "code",
   "execution_count": null,
   "id": "b56416df",
   "metadata": {},
   "outputs": [],
   "source": [
    "print('~'*100, 'REAL TEXT')\n",
    "output_strings = [char.decode('utf-8') for char in num_to_char([32, 31, 63, 38,  0,  0,  0,  0,  0,  0,  0,  0,  0,  0,  0,  0,\n",
    "         0,  0,  0,  0]).numpy()]\n",
    "\n",
    "print(''.join(output_strings))"
   ]
  },
  {
   "cell_type": "code",
   "execution_count": null,
   "id": "82bd4c10-dd6e-411e-834b-2a3b43fd12c5",
   "metadata": {
    "tags": []
   },
   "outputs": [],
   "source": [
    "decoded = tf.keras.backend.ctc_decode(yhat, input_length=[45,45], greedy=False)[0][0].numpy()"
   ]
  },
  {
   "cell_type": "code",
   "execution_count": null,
   "id": "caea7d22",
   "metadata": {},
   "outputs": [],
   "source": [
    "a=decoded[0]\n",
    "a"
   ]
  },
  {
   "cell_type": "code",
   "execution_count": null,
   "id": "5d68ac46-c90b-4eab-a709-f19aee569ff5",
   "metadata": {
    "tags": []
   },
   "outputs": [],
   "source": [
    "print('~'*100, 'PREDICTIONS')\n",
    "output_strings = [char.decode('utf-8') for char in num_to_char(a).numpy()]\n",
    "\n",
    "print(''.join(output_strings))"
   ]
  },
  {
   "cell_type": "markdown",
   "id": "64622f98-e99b-4fed-a2cc-f0da82eb5431",
   "metadata": {},
   "source": [
    "# Test on a Video"
   ]
  },
  {
   "cell_type": "code",
   "execution_count": null,
   "id": "a8b0c4d0-2031-4331-b91d-d87b1ae6f6e2",
   "metadata": {},
   "outputs": [],
   "source": [
    "sample = load_data(tf.convert_to_tensor('.\\\\data\\\\s1\\\\bras9a.mpg'))"
   ]
  },
  {
   "cell_type": "code",
   "execution_count": null,
   "id": "0cca60e4-47a9-4683-8a75-48f4684f723d",
   "metadata": {},
   "outputs": [],
   "source": [
    "print('~'*100, 'REAL TEXT')\n",
    "[tf.strings.reduce_join([num_to_char(word) for word in sentence]) for sentence in [sample[1]]]"
   ]
  },
  {
   "cell_type": "code",
   "execution_count": null,
   "id": "8cc5037c-1e32-435c-b0cc-01e1fb3b863c",
   "metadata": {},
   "outputs": [],
   "source": [
    "yhat = model.predict(tf.expand_dims(sample[0], axis=0))"
   ]
  },
  {
   "cell_type": "code",
   "execution_count": null,
   "id": "22c4f77d-715d-409f-bc5e-3ebe48704e8f",
   "metadata": {},
   "outputs": [],
   "source": [
    "decoded = tf.keras.backend.ctc_decode(yhat, input_length=[75], greedy=True)[0][0].numpy()"
   ]
  },
  {
   "cell_type": "code",
   "execution_count": null,
   "id": "e4d12ecc-b634-499e-a4bc-db9f010835fb",
   "metadata": {},
   "outputs": [],
   "source": [
    "print('~'*100, 'PREDICTIONS')\n",
    "[tf.strings.reduce_join([num_to_char(word) for word in sentence]) for sentence in decoded]"
   ]
  },
  {
   "cell_type": "code",
   "execution_count": null,
   "id": "551dfea2-de6b-4400-b71a-a17631529e3f",
   "metadata": {},
   "outputs": [],
   "source": []
  },
  {
   "cell_type": "code",
   "execution_count": null,
   "id": "fa95863d-3832-47bf-8a77-ebaa38054ace",
   "metadata": {},
   "outputs": [],
   "source": []
  }
 ],
 "metadata": {
  "kernelspec": {
   "display_name": "pytf",
   "language": "python",
   "name": "python3"
  },
  "language_info": {
   "codemirror_mode": {
    "name": "ipython",
    "version": 3
   },
   "file_extension": ".py",
   "mimetype": "text/x-python",
   "name": "python",
   "nbconvert_exporter": "python",
   "pygments_lexer": "ipython3",
   "version": "3.10.11"
  }
 },
 "nbformat": 4,
 "nbformat_minor": 5
}
